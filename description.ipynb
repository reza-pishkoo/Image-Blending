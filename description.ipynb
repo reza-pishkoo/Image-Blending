{
  "nbformat": 4,
  "nbformat_minor": 0,
  "metadata": {
    "colab": {
      "name": "HW5.ipynb",
      "provenance": [],
      "collapsed_sections": []
    },
    "kernelspec": {
      "name": "python3",
      "display_name": "Python 3"
    },
    "language_info": {
      "name": "python"
    }
  },
  "cells": [
    {
      "cell_type": "markdown",
      "source": [
        "<div dir = 'rtl'>\n",
        "\n",
        "## تمرین پنجم\n",
        "\n",
        "---\n",
        "</div>"
      ],
      "metadata": {
        "id": "LNgvTBrg4ZhC"
      }
    },
    {
      "cell_type": "markdown",
      "source": [
        "<div dir = 'rtl'>\n",
        "\n",
        "### سوال اول\n",
        "\n",
        "</div>"
      ],
      "metadata": {
        "id": "8oxITxev4hpP"
      }
    },
    {
      "cell_type": "markdown",
      "source": [
        "<div dir = 'rtl'>\n",
        "\n",
        "#### unify کردن عکس ها\n",
        "\n",
        "در اولین مرحله عکس ها را میخوانم و سایز آنها را برابر میکنم اما این کار را با ریسایز کردن انجام نمیدهم زیرا موجب به هم ریختن نسبت های قسمت های مختلف صورت می شود. پس با حذف کردن سطر و ستون این کار را انجام میدهم و هر عکسی که از هر سمت بزرگ تر است را از آن سمت حذف میکنم.\n",
        "\n",
        "</div>"
      ],
      "metadata": {
        "id": "OZAuTt1ZF1-7"
      }
    },
    {
      "cell_type": "code",
      "source": [
        "def unify_images(img1, img2):\n",
        "    img1_copy = img1.copy()\n",
        "    img2_copy = img2.copy()\n",
        "    img1_H, img1_W, _ = img1_copy.shape\n",
        "    img2_H, img2_W, _ = img2_copy.shape\n",
        "    mean_H = (img2_H + img1_H) // 2\n",
        "    mean_W = (img2_W + img1_W) // 2\n",
        "    if img1_H==img2_H and img1_W==img2_W:\n",
        "        return img1_copy, img2_copy\n",
        "    elif img1_H>=img2_H and img1_W>=img2_W:\n",
        "        dif1 = img1_H - img2_H\n",
        "        dif2 = img1_W - img2_W\n",
        "        img1_copy = img1_copy[dif1//2:mean_H, dif2//2:mean_W, :]\n",
        "        return img1_copy, img2_copy\n",
        "    elif img1_H<=img2_H and img1_W<=img2_W:\n",
        "        dif1 = img2_H - img1_H\n",
        "        dif2 = img2_W - img1_W\n",
        "        img2_copy = img2_copy[dif1//2:mean_H, dif2//2:mean_W, :]\n",
        "        return img1_copy, img2_copy\n",
        "    elif img1_H<=img2_H and img1_W>=img2_W:\n",
        "        dif1 = img2_H - img1_H\n",
        "        dif2 = img1_W - img2_W\n",
        "        img2_copy = img2_copy[dif1//2:mean_H, :, :]\n",
        "        img1_copy = img1_copy[:, dif2//2:mean_W, :]\n",
        "        return img1_copy, img2_copy\n",
        "    else:\n",
        "        dif1 = img1_H - img2_H\n",
        "        dif2 = img2_W - img1_W\n",
        "        img1_copy = img1_copy[dif1//2:mean_H, :, :]\n",
        "        img2_copy = img2_copy[:, dif2//2:mean_W, :]\n",
        "        return img1_copy, img2_copy"
      ],
      "metadata": {
        "id": "vPRVI_OeGdL2"
      },
      "execution_count": null,
      "outputs": []
    },
    {
      "cell_type": "markdown",
      "source": [
        "<div dir = 'rtl'>\n",
        "\n",
        "#### خواندن نقاط\n",
        "\n",
        "در این مرحله نقطه های کلیدی عکس را که قبلا پیدا کردم و در یک فایل قرار داده ام را از فایل میخوانم و برای یکی از این نقاط یک مثلث بندی به دست می آورم و از آن مثلث بندی برای عکس دیگر هم استفاده میکنم تا مثلث بندی هر دو عکس یکسان باشد. ( نقطه هایی که برای هر دو عکس انتخاب کرده ام متناظر هستند و میتوانم یک مثلث بندی برای هر دو در نظر بگیرم)\n",
        "\n",
        "\n",
        "</div>"
      ],
      "metadata": {
        "id": "lVgyxNYYGeN2"
      }
    },
    {
      "cell_type": "markdown",
      "source": [
        "<div dir = 'rtl'>\n",
        "\n",
        "#### پیدا کردن عکس میانی\n",
        "\n",
        "برای پیدا کردن عکس های میانی باید چندین آلفا در نظر بگیرم تا به صورت smooth تفاوت احساس شود. برای پیدا کردن عکس میانی برای هر کدام از این آلفا ها به صورت زیر عمل میکنم.\n",
        "\n",
        "ابتدا نقطه های متناظر برای عکس میانی را پیدا میکنم که از رابطه زیر به دست می آید.\n",
        "\n",
        "x = x0 * (1 - alpha) + x1 * alpha\n",
        "\n",
        "y = y0 * (1 - alpha) + y1 * alpha\n",
        "\n",
        "حالا روی مثلث های به دست آمده فور میزنم و مثلث های متناظر در هر سه عکس(عکس اول، عکس دوم و عکس میانی) را در نظر میگیرم. و برای هر مثلث روند زیر را انجام می دهم.\n",
        "\n",
        "ابتدا مثلث هر دو عکس را به مثلث عکس میانی warp میکنم. که با استفاده از تابع getAffineTransform ماتریس تبدیل را پیدا میکنم و با استفاده از تابع warpAffine ماتریس تبدیل به دست آمده برای هر مثلث را روی کل عکس مربوط به آن اعمال میکنم. حالا برای اینکه فقط قسمت مطلوب را جدا کنم یک ماسک میسازم که فقط در مثلث مطلوب( یعنی مثلث متناظر شکل میانی) یک باشد و در باقی عکس صفر باشد و با اعمال این ماسک روی عکس های به دست آمده از تابع warpAffine فقط قسمت مثلث مورد نظر را جدا میکنم.\n",
        "\n",
        "در ادامه دو نتیجه به دست آمده در بالا را با ضریب آلفا با هم ترکیب میکنم که به نسبت الفا از رنگ هر کدام از عکس ها استفاده شود. و به این شکل یک مثلث از عکس نهایی را میسازم و اگر همین کار را برای همه مثلث ها انجام دهم عکس میانی به طور کامل ساخته می شود.\n",
        "\n",
        "</div>"
      ],
      "metadata": {
        "id": "EQp9BouZHLZy"
      }
    },
    {
      "cell_type": "markdown",
      "source": [
        "<div dir = 'rtl'>\n",
        "\n",
        "#### درست کردن mp4\n",
        "\n",
        "برای این کار در هر مرحله از فور روی آلفا ها عکسی که در نهایت ساخته می شود را به یک لیست اضافه میکنم و در انتهای فور این لیست را reverce میکنم و به آخر خودش اضافه میکنم و با این لیست یک ویدیو میسازم.\n",
        "\n",
        "</div>"
      ],
      "metadata": {
        "id": "BFZqScozJq8N"
      }
    },
    {
      "cell_type": "markdown",
      "source": [
        "<div dir = 'rtl'>\n",
        "\n",
        "### سوال دوم\n",
        "\n",
        "</div>"
      ],
      "metadata": {
        "id": "zaJYh7KshssH"
      }
    },
    {
      "cell_type": "markdown",
      "source": [
        "<div dir = 'rtl'>\n",
        "\n",
        "در اولین مرحله عکس های source و target و mask را میخوانم و قسمتی از mask و  target که میخواهم را جدا میکنم و همچنین قسمتی از عکس source که میخواهم چیزی به آن اضافه کنم را هم جدا میکنم.\n",
        "\n",
        "</div>"
      ],
      "metadata": {
        "id": "zZVCAYqXhuBo"
      }
    },
    {
      "cell_type": "code",
      "source": [
        "source = cv2.imread(\"res08.jpg\")\n",
        "target = cv2.imread(\"drugs.jpg\")\n",
        "red_mask = cv2.imread(\"white_mask.png\")\n",
        "target = target[:400, 100:800, :]\n",
        "red_mask = red_mask[:400, 100:800, :]\n",
        "print(target.shape)\n",
        "target = np.flip(target, axis=1)\n",
        "red_mask = np.flip(red_mask, axis=1)\n",
        "mask = red_mask[:,:,2] > 200\n",
        "mask[:150, :100] = 0\n",
        "source = cv2.cvtColor(source, cv2.COLOR_BGR2RGB)\n",
        "target = cv2.cvtColor(target, cv2.COLOR_BGR2RGB)\n",
        "\n",
        "H, W = mask.shape\n",
        "startX = 15\n",
        "startY = 30\n",
        "rectangle = source[startX:startX+H, startY:startY+W, :]"
      ],
      "metadata": {
        "id": "_33TDWkeiI9y"
      },
      "execution_count": null,
      "outputs": []
    },
    {
      "cell_type": "markdown",
      "source": [
        "<div dir = 'rtl'>\n",
        "\n",
        "در این مرحله قصد دارم یک دستگاه معادلات بسازم. یک ماتریس n در n دارم که n تعداد پیکسل های قسمتی است که میخواهد عوض شود. و سه لیست دارم که یکی برای ستون های ماتریس و یکی برای سطر های ماتریس و یکی هم دیتایی است که در آن سطر و ستون باید اضافه شود و هر جا نیاز به اضافه کردن یک دیتا باشد همزمان به هر سه این لیست ها مقدار مورد نظر را اضافه می کنم. و یک ماتریس داریم که نقش b در معادله Ax = b را دارد.\n",
        "\n",
        "اگر ماسک در نقطه ای یک باشد، یعنی در سطر آن پیکسل و در ستون همان پیکسل باید مقدار یک قرار گیرد که این مقدار ها را اضافه میکنم به لیست ها. و به ماتریس b هم مقدار این پیکسل در عکس اصلی را اضافه میکنم.\n",
        "\n",
        "اگر ماسک در نقطه ای صفر باشد یعنی آن پیکسل باید عوض شود. و مقدار آن برابر با مقدار لاپلاسین عکسی که قرار است جایگزین شود باشد. پس به دیتای ستون آن پیکسل و سطر آن پیکسل مقدار -4 را اضافه میکنم و به دیتا های همان سطر اما ستون های کناری مقدار 1 را اضافه میکنم و به ماتریس b هم مقدار لاپلاسین عکس جایگزین را اضافه میکنم.\n",
        "\n",
        "در نهایت باا ورودی دادن سه ماتریس سطر و ستون و دیتای بالا به تابع coo_matrix یک ماتریس تنک میسازم که به حل آن با تابع lsqr مقدار هر پیکسل به دست می آید.\n",
        "\n",
        "همه توضیحات بالا را برای هر کانال r g b از عکس جدا انجام می دهم و در نهایت نتایج را استک میکنم.\n",
        "\n",
        "</div>"
      ],
      "metadata": {
        "id": "YCa88kq0iKiN"
      }
    },
    {
      "cell_type": "code",
      "source": [
        "H, W = mask.shape\n",
        "    num_px = H * W\n",
        "    index = np.arange(num_px)\n",
        "    index = np.reshape(index, (H, W))\n",
        "    mat_data = []\n",
        "    mat_row = []\n",
        "    mat_col = []\n",
        "    known = np.zeros((num_px))\n",
        "    for i in range(1, H-1):\n",
        "        for j in range(1, W-1):\n",
        "            if mask[i, j] == 1:\n",
        "                if mask[i-1:i+2, j-1:j+2].sum() == 9:\n",
        "                    continue\n",
        "                mat_row.append(index[i, j])\n",
        "                mat_col.append(index[i, j])\n",
        "                mat_data.append(1)\n",
        "                known[index[i, j]] = img[i, j]\n",
        "            else:\n",
        "                mat_row.append(index[i, j])\n",
        "                mat_col.append(index[i, j])\n",
        "                mat_data.append(-4)\n",
        "                \n",
        "                mat_row.append(index[i, j])\n",
        "                mat_col.append(index[i, j-1])\n",
        "                mat_data.append(1)\n",
        "                \n",
        "                mat_row.append(index[i, j])\n",
        "                mat_col.append(index[i, j+1])\n",
        "                mat_data.append(1)\n",
        "                \n",
        "                mat_row.append(index[i, j])\n",
        "                mat_col.append(index[i-1, j])\n",
        "                mat_data.append(1)\n",
        "                \n",
        "                mat_row.append(index[i, j])\n",
        "                mat_col.append(index[i+1, j])\n",
        "                mat_data.append(1)\n",
        "                \n",
        "                known[index[i, j]] = lap[i, j]\n",
        "    M = coo_matrix((mat_data, (mat_row, mat_col)), shape = (num_px, num_px))\n",
        "    known = np.array(known)\n",
        "    ans = lsqr(M, known)[0]\n",
        "    ans = np.reshape(ans, (H, W))\n",
        "    ans = np.where(mask, img, ans)"
      ],
      "metadata": {
        "id": "cwcaZoavlE4n"
      },
      "execution_count": null,
      "outputs": []
    },
    {
      "cell_type": "markdown",
      "source": [
        "<div dir = 'rtl'>\n",
        "\n",
        "### سوال سوم\n",
        "\n",
        "</div>"
      ],
      "metadata": {
        "id": "rISukZWc4nKz"
      }
    },
    {
      "cell_type": "markdown",
      "source": [
        "<div dir = 'rtl'>\n",
        "\n",
        "#### ریسایز کردن عکس ها\n",
        "\n",
        "در اولین مرحله هر دو عکس را ریسایز میکنم تا برابر باشند. و ماسکی با سایز هر دو عکس هم میسازم.\n",
        "\n",
        "</div>"
      ],
      "metadata": {
        "id": "hYe91y984quh"
      }
    },
    {
      "cell_type": "code",
      "source": [
        "max_row = max(real_img_row, draw_img_row)\n",
        "max_col = max(real_img_col, draw_img_col)\n",
        "\n",
        "real_img = cv2.resize(real_img, (max_row, max_col))\n",
        "draw_img = cv2.resize(draw_img, (max_row, max_col))\n",
        "mask_img = cv2.resize(mask_img, (max_row, max_col))"
      ],
      "metadata": {
        "id": "nD8tpkt05YDm"
      },
      "execution_count": null,
      "outputs": []
    },
    {
      "cell_type": "markdown",
      "source": [
        "<div dir = 'rtl'>\n",
        "\n",
        "#### ساختن هرم لاپلاسین\n",
        "\n",
        "در این مرحله یک تابع دارم که با ورودی گرفتن عکس یک هرم لاپلاسین برای آن خروجی می دهد به این صورت که در هر مرحله عکس را blur میکند و تفاوت آن با عکس فعلی را در هرم ذخیره میکند.\n",
        "\n",
        "</div>"
      ],
      "metadata": {
        "id": "V0YH_QVr5XwX"
      }
    },
    {
      "cell_type": "code",
      "source": [
        "def laplacian_stack(img_input):\n",
        "    img = img_input.copy().astype(float)\n",
        "    res_stack = []\n",
        "    for i in range(5):\n",
        "        blur = cv2.GaussianBlur(img, (101, 101), 30)\n",
        "        lap = img - blur\n",
        "        res_stack.append(lap)\n",
        "        img = blur\n",
        "    res_stack.append(blur)\n",
        "    return res_stack"
      ],
      "metadata": {
        "id": "deW3vEH45t-5"
      },
      "execution_count": null,
      "outputs": []
    },
    {
      "cell_type": "markdown",
      "source": [
        "<div dir = 'rtl'>\n",
        "\n",
        "#### ساختن هرم blur برای ماسک\n",
        "\n",
        "در این مرحله یک تابع دارم که ماسک را ورودی میگیرد و در هر بار یک بار نتیجه قبلی را blur میکند و به هرم اضافه میکند. پس در بیشترین مرحله بیشترین blur را دارد.\n",
        "\n",
        "</div>"
      ],
      "metadata": {
        "id": "6zW1OOAJ5M-A"
      }
    },
    {
      "cell_type": "code",
      "source": [
        "def mask_pyramid(mask_input):\n",
        "    res_stack = []\n",
        "    mask = mask_input.copy()\n",
        "    for i in range(6):\n",
        "        mask = cv2.GaussianBlur(mask, (111, 111), 17)\n",
        "        res_stack.append(mask)\n",
        "    return res_stack"
      ],
      "metadata": {
        "id": "Mbye-n3T6GfS"
      },
      "execution_count": null,
      "outputs": []
    },
    {
      "cell_type": "markdown",
      "source": [
        "<div dir = 'rtl'>\n",
        "\n",
        "در نهایت هر مرحله از این هرم ها را به این شکل میسازم که اگر x و y عکس مرحله فعلی در هرم لاپلاسین عکس ها باشد و a ماسک فعلی در این مرحله از هرم باشد مقدار a * x + (1 - a) * y را محاسبه میکنم و در نهایت همه این مقادیر را با هم جمع میکنم.\n",
        "\n",
        "</div>"
      ],
      "metadata": {
        "id": "bZT7yOwx6Jhz"
      }
    },
    {
      "cell_type": "code",
      "source": [
        "combined_image = np.zeros(real_img.shape, dtype=float)\n",
        "for i in range(6):\n",
        "    img1 = real_img_stack[i].astype(float)\n",
        "    img2 = draw_img_stack[i].astype(float)\n",
        "    mask = mask_img_stack[i].astype(float)\n",
        "    combined_image += (mask) * img1 + (1 - mask) * img2\n",
        "plt.imshow(combined_image.astype(int))"
      ],
      "metadata": {
        "id": "tGQrzH-I6wHG"
      },
      "execution_count": null,
      "outputs": []
    }
  ]
}